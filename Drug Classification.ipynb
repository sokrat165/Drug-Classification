{
 "cells": [
  {
   "cell_type": "code",
   "execution_count": 217,
   "id": "fc562ca3",
   "metadata": {},
   "outputs": [],
   "source": [
    "import pandas as pd \n",
    "import numpy as np\n",
    "import seaborn as sns\n",
    "import statsmodels.api as sm\n",
    "import matplotlib.pyplot as plt \n",
    "from sklearn.linear_model import LogisticRegression\n",
    "from sklearn.preprocessing import StandardScaler\n",
    "from sklearn.model_selection import train_test_split,KFold,cross_val_score,cross_val_predict,cross_validate\n",
    "from sklearn.metrics import confusion_matrix,consensus_score,classification_report,ConfusionMatrixDisplay\n",
    "from scipy.stats import chi2\n"
   ]
  },
  {
   "cell_type": "code",
   "execution_count": 139,
   "id": "6b37b26c",
   "metadata": {},
   "outputs": [
    {
     "data": {
      "text/html": [
       "<div>\n",
       "<style scoped>\n",
       "    .dataframe tbody tr th:only-of-type {\n",
       "        vertical-align: middle;\n",
       "    }\n",
       "\n",
       "    .dataframe tbody tr th {\n",
       "        vertical-align: top;\n",
       "    }\n",
       "\n",
       "    .dataframe thead th {\n",
       "        text-align: right;\n",
       "    }\n",
       "</style>\n",
       "<table border=\"1\" class=\"dataframe\">\n",
       "  <thead>\n",
       "    <tr style=\"text-align: right;\">\n",
       "      <th></th>\n",
       "      <th>Age</th>\n",
       "      <th>Sex</th>\n",
       "      <th>BP</th>\n",
       "      <th>Cholesterol</th>\n",
       "      <th>Na_to_K</th>\n",
       "      <th>Drug</th>\n",
       "    </tr>\n",
       "  </thead>\n",
       "  <tbody>\n",
       "    <tr>\n",
       "      <th>0</th>\n",
       "      <td>23</td>\n",
       "      <td>F</td>\n",
       "      <td>HIGH</td>\n",
       "      <td>HIGH</td>\n",
       "      <td>25.355</td>\n",
       "      <td>DrugY</td>\n",
       "    </tr>\n",
       "    <tr>\n",
       "      <th>1</th>\n",
       "      <td>47</td>\n",
       "      <td>M</td>\n",
       "      <td>LOW</td>\n",
       "      <td>HIGH</td>\n",
       "      <td>13.093</td>\n",
       "      <td>drugC</td>\n",
       "    </tr>\n",
       "    <tr>\n",
       "      <th>2</th>\n",
       "      <td>47</td>\n",
       "      <td>M</td>\n",
       "      <td>LOW</td>\n",
       "      <td>HIGH</td>\n",
       "      <td>10.114</td>\n",
       "      <td>drugC</td>\n",
       "    </tr>\n",
       "    <tr>\n",
       "      <th>3</th>\n",
       "      <td>28</td>\n",
       "      <td>F</td>\n",
       "      <td>NORMAL</td>\n",
       "      <td>HIGH</td>\n",
       "      <td>7.798</td>\n",
       "      <td>drugX</td>\n",
       "    </tr>\n",
       "    <tr>\n",
       "      <th>4</th>\n",
       "      <td>61</td>\n",
       "      <td>F</td>\n",
       "      <td>LOW</td>\n",
       "      <td>HIGH</td>\n",
       "      <td>18.043</td>\n",
       "      <td>DrugY</td>\n",
       "    </tr>\n",
       "  </tbody>\n",
       "</table>\n",
       "</div>"
      ],
      "text/plain": [
       "   Age Sex      BP Cholesterol  Na_to_K   Drug\n",
       "0   23   F    HIGH        HIGH   25.355  DrugY\n",
       "1   47   M     LOW        HIGH   13.093  drugC\n",
       "2   47   M     LOW        HIGH   10.114  drugC\n",
       "3   28   F  NORMAL        HIGH    7.798  drugX\n",
       "4   61   F     LOW        HIGH   18.043  DrugY"
      ]
     },
     "execution_count": 139,
     "metadata": {},
     "output_type": "execute_result"
    }
   ],
   "source": [
    "data=pd.read_csv('drug200.csv')\n",
    "data.head(5)"
   ]
  },
  {
   "cell_type": "code",
   "execution_count": 140,
   "id": "e449c610",
   "metadata": {},
   "outputs": [
    {
     "data": {
      "text/html": [
       "<div>\n",
       "<style scoped>\n",
       "    .dataframe tbody tr th:only-of-type {\n",
       "        vertical-align: middle;\n",
       "    }\n",
       "\n",
       "    .dataframe tbody tr th {\n",
       "        vertical-align: top;\n",
       "    }\n",
       "\n",
       "    .dataframe thead th {\n",
       "        text-align: right;\n",
       "    }\n",
       "</style>\n",
       "<table border=\"1\" class=\"dataframe\">\n",
       "  <thead>\n",
       "    <tr style=\"text-align: right;\">\n",
       "      <th></th>\n",
       "      <th>Age</th>\n",
       "      <th>Sex</th>\n",
       "      <th>BP</th>\n",
       "      <th>Cholesterol</th>\n",
       "      <th>Na_to_K</th>\n",
       "      <th>Drug</th>\n",
       "    </tr>\n",
       "  </thead>\n",
       "  <tbody>\n",
       "    <tr>\n",
       "      <th>count</th>\n",
       "      <td>200.000000</td>\n",
       "      <td>200</td>\n",
       "      <td>200</td>\n",
       "      <td>200</td>\n",
       "      <td>200.000000</td>\n",
       "      <td>200</td>\n",
       "    </tr>\n",
       "    <tr>\n",
       "      <th>unique</th>\n",
       "      <td>NaN</td>\n",
       "      <td>2</td>\n",
       "      <td>3</td>\n",
       "      <td>2</td>\n",
       "      <td>NaN</td>\n",
       "      <td>5</td>\n",
       "    </tr>\n",
       "    <tr>\n",
       "      <th>top</th>\n",
       "      <td>NaN</td>\n",
       "      <td>M</td>\n",
       "      <td>HIGH</td>\n",
       "      <td>HIGH</td>\n",
       "      <td>NaN</td>\n",
       "      <td>DrugY</td>\n",
       "    </tr>\n",
       "    <tr>\n",
       "      <th>freq</th>\n",
       "      <td>NaN</td>\n",
       "      <td>104</td>\n",
       "      <td>77</td>\n",
       "      <td>103</td>\n",
       "      <td>NaN</td>\n",
       "      <td>91</td>\n",
       "    </tr>\n",
       "    <tr>\n",
       "      <th>mean</th>\n",
       "      <td>44.315000</td>\n",
       "      <td>NaN</td>\n",
       "      <td>NaN</td>\n",
       "      <td>NaN</td>\n",
       "      <td>16.084485</td>\n",
       "      <td>NaN</td>\n",
       "    </tr>\n",
       "    <tr>\n",
       "      <th>std</th>\n",
       "      <td>16.544315</td>\n",
       "      <td>NaN</td>\n",
       "      <td>NaN</td>\n",
       "      <td>NaN</td>\n",
       "      <td>7.223956</td>\n",
       "      <td>NaN</td>\n",
       "    </tr>\n",
       "    <tr>\n",
       "      <th>min</th>\n",
       "      <td>15.000000</td>\n",
       "      <td>NaN</td>\n",
       "      <td>NaN</td>\n",
       "      <td>NaN</td>\n",
       "      <td>6.269000</td>\n",
       "      <td>NaN</td>\n",
       "    </tr>\n",
       "    <tr>\n",
       "      <th>25%</th>\n",
       "      <td>31.000000</td>\n",
       "      <td>NaN</td>\n",
       "      <td>NaN</td>\n",
       "      <td>NaN</td>\n",
       "      <td>10.445500</td>\n",
       "      <td>NaN</td>\n",
       "    </tr>\n",
       "    <tr>\n",
       "      <th>50%</th>\n",
       "      <td>45.000000</td>\n",
       "      <td>NaN</td>\n",
       "      <td>NaN</td>\n",
       "      <td>NaN</td>\n",
       "      <td>13.936500</td>\n",
       "      <td>NaN</td>\n",
       "    </tr>\n",
       "    <tr>\n",
       "      <th>75%</th>\n",
       "      <td>58.000000</td>\n",
       "      <td>NaN</td>\n",
       "      <td>NaN</td>\n",
       "      <td>NaN</td>\n",
       "      <td>19.380000</td>\n",
       "      <td>NaN</td>\n",
       "    </tr>\n",
       "    <tr>\n",
       "      <th>max</th>\n",
       "      <td>74.000000</td>\n",
       "      <td>NaN</td>\n",
       "      <td>NaN</td>\n",
       "      <td>NaN</td>\n",
       "      <td>38.247000</td>\n",
       "      <td>NaN</td>\n",
       "    </tr>\n",
       "  </tbody>\n",
       "</table>\n",
       "</div>"
      ],
      "text/plain": [
       "               Age  Sex    BP Cholesterol     Na_to_K   Drug\n",
       "count   200.000000  200   200         200  200.000000    200\n",
       "unique         NaN    2     3           2         NaN      5\n",
       "top            NaN    M  HIGH        HIGH         NaN  DrugY\n",
       "freq           NaN  104    77         103         NaN     91\n",
       "mean     44.315000  NaN   NaN         NaN   16.084485    NaN\n",
       "std      16.544315  NaN   NaN         NaN    7.223956    NaN\n",
       "min      15.000000  NaN   NaN         NaN    6.269000    NaN\n",
       "25%      31.000000  NaN   NaN         NaN   10.445500    NaN\n",
       "50%      45.000000  NaN   NaN         NaN   13.936500    NaN\n",
       "75%      58.000000  NaN   NaN         NaN   19.380000    NaN\n",
       "max      74.000000  NaN   NaN         NaN   38.247000    NaN"
      ]
     },
     "execution_count": 140,
     "metadata": {},
     "output_type": "execute_result"
    }
   ],
   "source": [
    "data.describe(include='all')"
   ]
  },
  {
   "cell_type": "code",
   "execution_count": 141,
   "id": "37d7c27b",
   "metadata": {},
   "outputs": [
    {
     "name": "stdout",
     "output_type": "stream",
     "text": [
      "<class 'pandas.core.frame.DataFrame'>\n",
      "RangeIndex: 200 entries, 0 to 199\n",
      "Data columns (total 6 columns):\n",
      " #   Column       Non-Null Count  Dtype  \n",
      "---  ------       --------------  -----  \n",
      " 0   Age          200 non-null    int64  \n",
      " 1   Sex          200 non-null    object \n",
      " 2   BP           200 non-null    object \n",
      " 3   Cholesterol  200 non-null    object \n",
      " 4   Na_to_K      200 non-null    float64\n",
      " 5   Drug         200 non-null    object \n",
      "dtypes: float64(1), int64(1), object(4)\n",
      "memory usage: 9.5+ KB\n"
     ]
    }
   ],
   "source": [
    "data.info()"
   ]
  },
  {
   "cell_type": "code",
   "execution_count": 142,
   "id": "8c64c1bf",
   "metadata": {},
   "outputs": [
    {
     "data": {
      "text/plain": [
       "HIGH      77\n",
       "LOW       64\n",
       "NORMAL    59\n",
       "Name: BP, dtype: int64"
      ]
     },
     "execution_count": 142,
     "metadata": {},
     "output_type": "execute_result"
    }
   ],
   "source": [
    "data['Sex'].value_counts()\n",
    "data['BP'].value_counts()\n"
   ]
  },
  {
   "cell_type": "code",
   "execution_count": 143,
   "id": "5293ff48",
   "metadata": {},
   "outputs": [
    {
     "name": "stderr",
     "output_type": "stream",
     "text": [
      "C:\\Users\\anaes\\anaconda3\\lib\\site-packages\\seaborn\\_decorators.py:36: FutureWarning: Pass the following variable as a keyword arg: x. From version 0.12, the only valid positional argument will be `data`, and passing other arguments without an explicit keyword will result in an error or misinterpretation.\n",
      "  warnings.warn(\n"
     ]
    },
    {
     "data": {
      "text/plain": [
       "<AxesSubplot:xlabel='Sex', ylabel='count'>"
      ]
     },
     "execution_count": 143,
     "metadata": {},
     "output_type": "execute_result"
    },
    {
     "data": {
      "image/png": "[encoded data removed]",
      "text/plain": [
       "<Figure size 432x288 with 1 Axes>"
      ]
     },
     "metadata": {
      "needs_background": "light"
     },
     "output_type": "display_data"
    }
   ],
   "source": [
    "sns.countplot(data['Sex'])"
   ]
  },
  {
   "cell_type": "code",
   "execution_count": 144,
   "id": "ff108e23",
   "metadata": {},
   "outputs": [
    {
     "name": "stderr",
     "output_type": "stream",
     "text": [
      "C:\\Users\\anaes\\anaconda3\\lib\\site-packages\\seaborn\\_decorators.py:36: FutureWarning: Pass the following variable as a keyword arg: x. From version 0.12, the only valid positional argument will be `data`, and passing other arguments without an explicit keyword will result in an error or misinterpretation.\n",
      "  warnings.warn(\n"
     ]
    },
    {
     "data": {
      "text/plain": [
       "<AxesSubplot:xlabel='BP', ylabel='count'>"
      ]
     },
     "execution_count": 144,
     "metadata": {},
     "output_type": "execute_result"
    },
    {
     "data": {
      "image/png": "[encoded data removed]",
      "text/plain": [
       "<Figure size 432x288 with 1 Axes>"
      ]
     },
     "metadata": {
      "needs_background": "light"
     },
     "output_type": "display_data"
    }
   ],
   "source": [
    "sns.countplot(data['BP'])\n"
   ]
  },
  {
   "cell_type": "code",
   "execution_count": 145,
   "id": "93ecb7d8",
   "metadata": {},
   "outputs": [
    {
     "data": {
      "text/plain": [
       "[<matplotlib.lines.Line2D at 0x2ed1176c220>]"
      ]
     },
     "execution_count": 145,
     "metadata": {},
     "output_type": "execute_result"
    },
    {
     "data": {
      "image/png": "[encoded data removed]",
      "text/plain": [
       "<Figure size 432x288 with 1 Axes>"
      ]
     },
     "metadata": {
      "needs_background": "light"
     },
     "output_type": "display_data"
    }
   ],
   "source": [
    "plt.plot(data['Na_to_K'])"
   ]
  },
  {
   "cell_type": "code",
   "execution_count": 146,
   "id": "e49c2a0a",
   "metadata": {},
   "outputs": [
    {
     "name": "stderr",
     "output_type": "stream",
     "text": [
      "C:\\Users\\anaes\\anaconda3\\lib\\site-packages\\seaborn\\_decorators.py:36: FutureWarning: Pass the following variable as a keyword arg: x. From version 0.12, the only valid positional argument will be `data`, and passing other arguments without an explicit keyword will result in an error or misinterpretation.\n",
      "  warnings.warn(\n"
     ]
    },
    {
     "data": {
      "text/plain": [
       "<AxesSubplot:xlabel='Cholesterol', ylabel='count'>"
      ]
     },
     "execution_count": 146,
     "metadata": {},
     "output_type": "execute_result"
    },
    {
     "data": {
      "image/png": "[encoded data removed]",
      "text/plain": [
       "<Figure size 432x288 with 1 Axes>"
      ]
     },
     "metadata": {
      "needs_background": "light"
     },
     "output_type": "display_data"
    }
   ],
   "source": [
    "sns.countplot(data['Cholesterol'])\n"
   ]
  },
  {
   "cell_type": "code",
   "execution_count": 147,
   "id": "6b0b470d",
   "metadata": {},
   "outputs": [
    {
     "name": "stderr",
     "output_type": "stream",
     "text": [
      "C:\\Users\\anaes\\anaconda3\\lib\\site-packages\\seaborn\\_decorators.py:36: FutureWarning: Pass the following variable as a keyword arg: x. From version 0.12, the only valid positional argument will be `data`, and passing other arguments without an explicit keyword will result in an error or misinterpretation.\n",
      "  warnings.warn(\n"
     ]
    },
    {
     "data": {
      "text/plain": [
       "<AxesSubplot:xlabel='Drug', ylabel='count'>"
      ]
     },
     "execution_count": 147,
     "metadata": {},
     "output_type": "execute_result"
    },
    {
     "data": {
      "image/png": "[encoded data removed]",
      "text/plain": [
       "<Figure size 432x288 with 1 Axes>"
      ]
     },
     "metadata": {
      "needs_background": "light"
     },
     "output_type": "display_data"
    }
   ],
   "source": [
    "sns.countplot(data['Drug'])\n"
   ]
  },
  {
   "cell_type": "code",
   "execution_count": 148,
   "id": "0050c3c9",
   "metadata": {},
   "outputs": [
    {
     "data": {
      "text/plain": [
       "DrugY    91\n",
       "drugX    54\n",
       "drugA    23\n",
       "drugC    16\n",
       "drugB    16\n",
       "Name: Drug, dtype: int64"
      ]
     },
     "execution_count": 148,
     "metadata": {},
     "output_type": "execute_result"
    }
   ],
   "source": [
    "data['Drug'].value_counts()"
   ]
  },
  {
   "cell_type": "code",
   "execution_count": 149,
   "id": "63d9b352",
   "metadata": {},
   "outputs": [
    {
     "data": {
      "text/plain": [
       "HIGH      103\n",
       "NORMAL     97\n",
       "Name: Cholesterol, dtype: int64"
      ]
     },
     "execution_count": 149,
     "metadata": {},
     "output_type": "execute_result"
    }
   ],
   "source": [
    "data['Cholesterol'].value_counts()"
   ]
  },
  {
   "cell_type": "code",
   "execution_count": 150,
   "id": "55cdad65",
   "metadata": {},
   "outputs": [],
   "source": [
    "data['Drug']=data['Drug'].map({'DrugY':1,'drugX':2,'drugA':3,'drugC':4,'drugB':5})"
   ]
  },
  {
   "cell_type": "code",
   "execution_count": 151,
   "id": "5924c19c",
   "metadata": {},
   "outputs": [],
   "source": [
    "data['Cholesterol']=data['Cholesterol'].map({'HIGH':1,'NORMAL':2})"
   ]
  },
  {
   "cell_type": "code",
   "execution_count": 152,
   "id": "a8bca0ae",
   "metadata": {},
   "outputs": [],
   "source": [
    "data['BP']=data['BP'].map({'HIGH':1,'LOW':2,'NORMAL':3})"
   ]
  },
  {
   "cell_type": "code",
   "execution_count": 153,
   "id": "3f0aa141",
   "metadata": {},
   "outputs": [],
   "source": [
    "data['Sex']=data['Sex'].map({'F':0,'M':1})\n"
   ]
  },
  {
   "cell_type": "markdown",
   "id": "7f82531a",
   "metadata": {},
   "source": [
    "## X_Y"
   ]
  },
  {
   "cell_type": "code",
   "execution_count": 158,
   "id": "e4356128",
   "metadata": {},
   "outputs": [],
   "source": [
    "x=data.iloc[:,:-1].values\n",
    "y=data.iloc[:,-1].values"
   ]
  },
  {
   "cell_type": "markdown",
   "id": "5593dc61",
   "metadata": {},
   "source": [
    "# SCALE"
   ]
  },
  {
   "cell_type": "code",
   "execution_count": 160,
   "id": "2c5975f5",
   "metadata": {},
   "outputs": [],
   "source": [
    "scale=StandardScaler()\n",
    "scale_fit=scale.fit(x,y)\n",
    "x=scale_fit.transform(x) "
   ]
  },
  {
   "cell_type": "code",
   "execution_count": 161,
   "id": "4a673005",
   "metadata": {},
   "outputs": [],
   "source": [
    "x_trin,x_test,y_train,y_test=train_test_split(scale_tr,y,test_size=0.2,random_state=400,shuffle=True)"
   ]
  },
  {
   "cell_type": "markdown",
   "id": "3c9f6d0b",
   "metadata": {},
   "source": [
    "# Model"
   ]
  },
  {
   "cell_type": "code",
   "execution_count": 205,
   "id": "c82a6bae",
   "metadata": {},
   "outputs": [
    {
     "data": {
      "text/plain": [
       "LogisticRegression(multi_class='multinomial', solver='newton-cg')"
      ]
     },
     "execution_count": 205,
     "metadata": {},
     "output_type": "execute_result"
    }
   ],
   "source": [
    "kfold=KFold(n_splits=6,random_state=41,shuffle=True)\n",
    "model=LogisticRegression(multi_class='multinomial',solver='newton-cg')\n",
    "result=cross_val_score(model,scale_tr,y,cv=kfold)\n",
    "cv_results = cross_validate(model, scale_tr, y, cv=5, return_train_score=True)\n",
    "predictions = cross_val_predict(model, scale_tr, y, cv=5)\n",
    "\n",
    "model.fit(scale_tr,y)"
   ]
  },
  {
   "cell_type": "code",
   "execution_count": 207,
   "id": "3afb2c2e",
   "metadata": {},
   "outputs": [
    {
     "data": {
      "text/plain": [
       "{'fit_time': array([0.01564002, 0.01603365, 0.        , 0.01562476, 0.        ]),\n",
       " 'score_time': array([0., 0., 0., 0., 0.]),\n",
       " 'test_score': array([0.925, 0.95 , 0.975, 0.85 , 0.95 ]),\n",
       " 'train_score': array([0.9625 , 0.96875, 0.95625, 0.975  , 0.95   ])}"
      ]
     },
     "execution_count": 207,
     "metadata": {},
     "output_type": "execute_result"
    }
   ],
   "source": [
    "cv_results"
   ]
  },
  {
   "cell_type": "code",
   "execution_count": 209,
   "id": "b1c412b8",
   "metadata": {},
   "outputs": [
    {
     "data": {
      "text/plain": [
       "array([1, 1, 4, 2, 1, 2, 1, 4, 1, 1, 4, 1, 1, 1, 2, 3, 2, 3, 4, 1, 1, 1,\n",
       "       1, 1, 1, 1, 1, 2, 1, 1, 2, 5, 2, 1, 2, 2, 3, 1, 2, 2, 1, 5, 2, 2,\n",
       "       2, 2, 3, 4, 1, 1, 1, 2, 1, 1, 5, 1, 5, 1, 2, 1, 1, 3, 1, 2, 5, 1,\n",
       "       3, 2, 1, 1, 5, 1, 2, 1, 1, 1, 3, 1, 3, 2, 5, 2, 4, 3, 4, 5, 2, 1,\n",
       "       1, 2, 1, 1, 1, 1, 1, 2, 1, 1, 1, 1, 3, 3, 4, 2, 1, 2, 2, 1, 5, 1,\n",
       "       3, 2, 2, 2, 2, 1, 2, 2, 3, 1, 1, 1, 1, 1, 5, 1, 5, 2, 1, 2, 1, 1,\n",
       "       1, 1, 1, 2, 3, 3, 3, 2, 3, 1, 5, 5, 3, 2, 2, 3, 2, 4, 3, 5, 2, 1,\n",
       "       1, 4, 3, 1, 4, 2, 2, 5, 2, 1, 1, 1, 1, 2, 1, 3, 2, 2, 2, 1, 3, 5,\n",
       "       3, 1, 1, 1, 1, 2, 2, 1, 1, 1, 5, 3, 1, 1, 1, 3, 1, 4, 1, 4, 4, 2,\n",
       "       2, 2], dtype=int64)"
      ]
     },
     "execution_count": 209,
     "metadata": {},
     "output_type": "execute_result"
    }
   ],
   "source": [
    "predictions"
   ]
  },
  {
   "cell_type": "code",
   "execution_count": 213,
   "id": "f2afed5a",
   "metadata": {},
   "outputs": [
    {
     "name": "stdout",
     "output_type": "stream",
     "text": [
      "              precision    recall  f1-score   support\n",
      "\n",
      "           1       0.92      0.94      0.93        89\n",
      "           2       0.94      0.94      0.94        54\n",
      "           3       1.00      0.88      0.94        26\n",
      "           4       0.88      1.00      0.93        14\n",
      "           5       0.88      0.82      0.85        17\n",
      "\n",
      "    accuracy                           0.93       200\n",
      "   macro avg       0.92      0.92      0.92       200\n",
      "weighted avg       0.93      0.93      0.93       200\n",
      "\n"
     ]
    }
   ],
   "source": [
    "print(classification_report(predictions,y))"
   ]
  },
  {
   "cell_type": "code",
   "execution_count": 198,
   "id": "6af6ff33",
   "metadata": {},
   "outputs": [
    {
     "data": {
      "text/plain": [
       "array([0.94117647, 0.91176471, 0.96969697, 0.90909091, 0.90909091,\n",
       "       0.96969697])"
      ]
     },
     "execution_count": 198,
     "metadata": {},
     "output_type": "execute_result"
    }
   ],
   "source": [
    "result"
   ]
  },
  {
   "cell_type": "code",
   "execution_count": 195,
   "id": "0f12e753",
   "metadata": {},
   "outputs": [
    {
     "data": {
      "text/plain": [
       "array([-0.00931349,  0.16209522,  0.83719828,  0.36363933,  4.54776504,\n",
       "       -0.09601399, -0.12825335,  2.81126913,  1.29637437, -1.39120728,\n",
       "       -1.02130006,  0.16900376, -2.25452378, -0.36675332, -1.45418299,\n",
       "       -0.31852111,  0.03192228,  0.44237484, -1.31202137, -1.13557677,\n",
       "        1.44514865, -0.23476791, -1.83631847,  0.018761  , -0.566798  ])"
      ]
     },
     "execution_count": 195,
     "metadata": {},
     "output_type": "execute_result"
    }
   ],
   "source": [
    "model.coef_.flatten() "
   ]
  },
  {
   "cell_type": "code",
   "execution_count": 166,
   "id": "7c6835c0",
   "metadata": {},
   "outputs": [
    {
     "name": "stdout",
     "output_type": "stream",
     "text": [
      "Log-likelihood (null model): -321.88758248681995\n",
      "Log-likelihood (fitted model): 0.955\n",
      "Chi-squared statistic: 645.6851649736399\n",
      "P-value: 2.002543029384618e-138\n"
     ]
    }
   ],
   "source": [
    "log_likelihood_fit = model.score(scale_tr, y)  \n",
    "null_model_probs = np.full_like(y, 1 / len(np.unique(y)), dtype=float)\n",
    "log_likelihood_null = np.sum(np.log(null_model_probs))\n",
    "\n",
    "chi = 2 * (log_likelihood_fit - log_likelihood_null)\n",
    "\n",
    "df = model.coef_.shape[1] - 1\n",
    "p_value = chi2.sf(chi, df)\n",
    "\n",
    "print(f\"Log-likelihood (null model): {log_likelihood_null}\")\n",
    "print(f\"Log-likelihood (fitted model): {log_likelihood_fit}\")\n",
    "print(f\"Chi-squared statistic: {chi}\")\n",
    "print(f\"P-value: {p_value}\")"
   ]
  },
  {
   "cell_type": "code",
   "execution_count": 170,
   "id": "e0618cf9",
   "metadata": {},
   "outputs": [
    {
     "data": {
      "text/plain": [
       "array([1, 1, 1, 1, 1, 2, 3, 1, 3, 1, 1, 2, 1, 4, 3, 1, 2, 1, 2, 1, 5, 1,\n",
       "       2, 3, 1, 2, 2, 1, 4, 4, 3, 1, 2, 3, 2, 3, 1, 2, 3, 1, 5, 2, 2, 2,\n",
       "       1, 1, 2, 1, 1, 1, 1, 1, 1, 2, 2, 4, 5, 1, 2, 3, 3, 3, 2, 1, 1, 3,\n",
       "       1, 4, 2, 2, 1, 3, 5, 1, 1, 1, 5, 1, 1, 1, 1, 2, 4, 1, 3, 2, 2, 1,\n",
       "       4, 1, 4, 2, 1, 1, 3, 2, 1, 5, 1, 5, 1, 2, 2, 1, 1, 3, 3, 2, 2, 1,\n",
       "       2, 1, 1, 1, 1, 4, 1, 5, 3, 1, 2, 2, 2, 2, 2, 1, 1, 1, 2, 1, 1, 3,\n",
       "       5, 1, 1, 5, 2, 1, 1, 1, 1, 1, 1, 2, 2, 2, 4, 2, 5, 4, 2, 3, 1, 5,\n",
       "       1, 5, 3, 1, 1, 1], dtype=int64)"
      ]
     },
     "execution_count": 170,
     "metadata": {},
     "output_type": "execute_result"
    }
   ],
   "source": [
    "y_train_predict=model.predict(x_trin)\n",
    "y_train_predict"
   ]
  },
  {
   "cell_type": "code",
   "execution_count": 171,
   "id": "c558a07c",
   "metadata": {},
   "outputs": [
    {
     "data": {
      "text/plain": [
       "array([1, 1, 1, 1, 1, 1, 3, 1, 3, 1, 1, 2, 1, 4, 3, 1, 2, 1, 2, 1, 5, 1,\n",
       "       2, 3, 1, 2, 2, 1, 4, 4, 3, 1, 2, 3, 2, 3, 1, 2, 3, 1, 5, 2, 2, 2,\n",
       "       1, 1, 2, 1, 1, 1, 1, 1, 1, 2, 2, 4, 5, 1, 2, 3, 3, 3, 2, 1, 2, 5,\n",
       "       1, 4, 2, 2, 1, 3, 5, 1, 1, 1, 5, 1, 1, 1, 1, 1, 4, 1, 3, 2, 2, 1,\n",
       "       4, 1, 4, 2, 1, 1, 3, 2, 1, 5, 1, 5, 1, 2, 2, 1, 1, 3, 1, 2, 1, 1,\n",
       "       2, 1, 1, 1, 1, 4, 1, 5, 3, 1, 2, 2, 2, 2, 2, 1, 1, 2, 2, 1, 1, 3,\n",
       "       5, 1, 1, 5, 2, 1, 1, 1, 1, 1, 1, 2, 2, 2, 4, 2, 5, 4, 2, 3, 1, 5,\n",
       "       1, 5, 3, 1, 1, 1], dtype=int64)"
      ]
     },
     "execution_count": 171,
     "metadata": {},
     "output_type": "execute_result"
    }
   ],
   "source": [
    "y_train"
   ]
  },
  {
   "cell_type": "code",
   "execution_count": 215,
   "id": "03f350cd",
   "metadata": {},
   "outputs": [
    {
     "data": {
      "text/plain": [
       "array([[71,  3,  1,  0,  0],\n",
       "       [ 2, 39,  0,  0,  0],\n",
       "       [ 0,  0, 19,  0,  0],\n",
       "       [ 0,  0,  0, 11,  0],\n",
       "       [ 0,  0,  1,  0, 13]], dtype=int64)"
      ]
     },
     "execution_count": 215,
     "metadata": {},
     "output_type": "execute_result"
    }
   ],
   "source": [
    "cm=confusion_matrix(y_train,y_train_predict)\n",
    "cm"
   ]
  },
  {
   "cell_type": "code",
   "execution_count": 223,
   "id": "0ca2b028",
   "metadata": {},
   "outputs": [
    {
     "data": {
      "image/png": "[encoded data removed]",
      "text/plain": [
       "<Figure size 432x288 with 2 Axes>"
      ]
     },
     "metadata": {
      "needs_background": "light"
     },
     "output_type": "display_data"
    }
   ],
   "source": [
    "ConfusionMatrixDisplay(cm).plot()\n",
    "plt.show()"
   ]
  },
  {
   "cell_type": "code",
   "execution_count": 176,
   "id": "f5de2d91",
   "metadata": {},
   "outputs": [
    {
     "name": "stdout",
     "output_type": "stream",
     "text": [
      "              precision    recall  f1-score   support\n",
      "\n",
      "           1       0.97      0.95      0.96        75\n",
      "           2       0.93      0.95      0.94        41\n",
      "           3       0.90      1.00      0.95        19\n",
      "           4       1.00      1.00      1.00        11\n",
      "           5       1.00      0.93      0.96        14\n",
      "\n",
      "    accuracy                           0.96       160\n",
      "   macro avg       0.96      0.97      0.96       160\n",
      "weighted avg       0.96      0.96      0.96       160\n",
      "\n"
     ]
    }
   ],
   "source": [
    "print(classification_report(y_train,y_train_predict))"
   ]
  },
  {
   "cell_type": "code",
   "execution_count": 178,
   "id": "bbd888c8",
   "metadata": {},
   "outputs": [
    {
     "data": {
      "text/plain": [
       "array([1, 2, 1, 1, 1, 1, 2, 4, 1, 1, 4, 2, 1, 2, 1, 1, 5, 2, 2, 3, 3, 2,\n",
       "       2, 5, 1, 1, 2, 2, 3, 4, 4, 1, 5, 2, 1, 3, 2, 2, 1, 1], dtype=int64)"
      ]
     },
     "execution_count": 178,
     "metadata": {},
     "output_type": "execute_result"
    }
   ],
   "source": [
    "y_test_predict=model.predict(x_test)\n",
    "y_test_predict"
   ]
  },
  {
   "cell_type": "code",
   "execution_count": 225,
   "id": "5e42b765",
   "metadata": {},
   "outputs": [
    {
     "data": {
      "text/plain": [
       "array([[15,  0,  0,  0,  1],\n",
       "       [ 0, 13,  0,  0,  0],\n",
       "       [ 0,  0,  4,  0,  0],\n",
       "       [ 1,  0,  0,  4,  0],\n",
       "       [ 0,  0,  0,  0,  2]], dtype=int64)"
      ]
     },
     "execution_count": 225,
     "metadata": {},
     "output_type": "execute_result"
    }
   ],
   "source": [
    "cm2=confusion_matrix(y_test,y_test_predict)\n",
    "cm2"
   ]
  },
  {
   "cell_type": "code",
   "execution_count": 227,
   "id": "89149789",
   "metadata": {},
   "outputs": [
    {
     "data": {
      "image/png": "[encoded data removed]",
      "text/plain": [
       "<Figure size 432x288 with 2 Axes>"
      ]
     },
     "metadata": {
      "needs_background": "light"
     },
     "output_type": "display_data"
    }
   ],
   "source": [
    "ConfusionMatrixDisplay(cm2).plot()\n",
    "plt.show()"
   ]
  },
  {
   "cell_type": "code",
   "execution_count": 184,
   "id": "4f316cb7",
   "metadata": {},
   "outputs": [
    {
     "name": "stdout",
     "output_type": "stream",
     "text": [
      "              precision    recall  f1-score   support\n",
      "\n",
      "           1       0.94      0.94      0.94        16\n",
      "           2       1.00      1.00      1.00        13\n",
      "           3       1.00      1.00      1.00         4\n",
      "           4       1.00      0.80      0.89         5\n",
      "           5       0.67      1.00      0.80         2\n",
      "\n",
      "    accuracy                           0.95        40\n",
      "   macro avg       0.92      0.95      0.93        40\n",
      "weighted avg       0.96      0.95      0.95        40\n",
      "\n"
     ]
    }
   ],
   "source": [
    "print(classification_report(y_test,y_test_predict))"
   ]
  }
 ],
 "metadata": {
  "kernelspec": {
   "display_name": "Python 3 (ipykernel)",
   "language": "python",
   "name": "python3"
  },
  "language_info": {
   "codemirror_mode": {
    "name": "ipython",
    "version": 3
   },
   "file_extension": ".py",
   "mimetype": "text/x-python",
   "name": "python",
   "nbconvert_exporter": "python",
   "pygments_lexer": "ipython3",
   "version": "3.9.12"
  }
 },
 "nbformat": 4,
 "nbformat_minor": 5
}
