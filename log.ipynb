{
 "cells": [
  {
   "cell_type": "code",
   "execution_count": 1,
   "id": "e88c64fb",
   "metadata": {},
   "outputs": [],
   "source": [
    "import pandas as pd \n",
    "import numpy as np "
   ]
  },
  {
   "cell_type": "code",
   "execution_count": 4,
   "id": "1032c94c",
   "metadata": {},
   "outputs": [
    {
     "data": {
      "text/html": [
       "<div>\n",
       "<style scoped>\n",
       "    .dataframe tbody tr th:only-of-type {\n",
       "        vertical-align: middle;\n",
       "    }\n",
       "\n",
       "    .dataframe tbody tr th {\n",
       "        vertical-align: top;\n",
       "    }\n",
       "\n",
       "    .dataframe thead th {\n",
       "        text-align: right;\n",
       "    }\n",
       "</style>\n",
       "<table border=\"1\" class=\"dataframe\">\n",
       "  <thead>\n",
       "    <tr style=\"text-align: right;\">\n",
       "      <th></th>\n",
       "      <th>x</th>\n",
       "      <th>y</th>\n",
       "    </tr>\n",
       "  </thead>\n",
       "  <tbody>\n",
       "    <tr>\n",
       "      <th>0</th>\n",
       "      <td>1.0</td>\n",
       "      <td>0</td>\n",
       "    </tr>\n",
       "    <tr>\n",
       "      <th>1</th>\n",
       "      <td>1.5</td>\n",
       "      <td>0</td>\n",
       "    </tr>\n",
       "    <tr>\n",
       "      <th>2</th>\n",
       "      <td>2.1</td>\n",
       "      <td>0</td>\n",
       "    </tr>\n",
       "    <tr>\n",
       "      <th>3</th>\n",
       "      <td>2.4</td>\n",
       "      <td>0</td>\n",
       "    </tr>\n",
       "    <tr>\n",
       "      <th>4</th>\n",
       "      <td>2.5</td>\n",
       "      <td>1</td>\n",
       "    </tr>\n",
       "  </tbody>\n",
       "</table>\n",
       "</div>"
      ],
      "text/plain": [
       "     x  y\n",
       "0  1.0  0\n",
       "1  1.5  0\n",
       "2  2.1  0\n",
       "3  2.4  0\n",
       "4  2.5  1"
      ]
     },
     "execution_count": 4,
     "metadata": {},
     "output_type": "execute_result"
    }
   ],
   "source": [
    "data =pd.read_csv('https://raw.githubusercontent.com/thomasnield/machine-learning-demo-data/master/classification/simple_logistic_regression.csv',delimiter=',')\n",
    "data.head()"
   ]
  },
  {
   "cell_type": "code",
   "execution_count": 16,
   "id": "1c49a8b5",
   "metadata": {},
   "outputs": [],
   "source": [
    "sum_y=data['y'].sum()/len(data)\n",
    "sum_y\n",
    "y=data['y'].values\n",
    "x=data['x'].values"
   ]
  },
  {
   "cell_type": "code",
   "execution_count": 28,
   "id": "91cccea5",
   "metadata": {},
   "outputs": [],
   "source": [
    "log_likelihood=sum(y[i]*np.log(sum_y)+(1-y[i])*np.log(1-sum_y) for i in range (len(data)))"
   ]
  },
  {
   "cell_type": "code",
   "execution_count": 29,
   "id": "6da7a805",
   "metadata": {},
   "outputs": [
    {
     "data": {
      "text/plain": [
       "-14.341070198709906"
      ]
     },
     "execution_count": 29,
     "metadata": {},
     "output_type": "execute_result"
    }
   ],
   "source": [
    "log_likelihood"
   ]
  },
  {
   "cell_type": "code",
   "execution_count": 30,
   "id": "588aa748",
   "metadata": {},
   "outputs": [],
   "source": [
    "def logistic_function(x):\n",
    "    e=1/(1+np.exp(-(-3.17576395+0.69267212*x)))\n",
    "    return e"
   ]
  },
  {
   "cell_type": "code",
   "execution_count": 31,
   "id": "5eca6e2a",
   "metadata": {},
   "outputs": [
    {
     "data": {
      "text/plain": [
       "-9.946161673231583"
      ]
     },
     "execution_count": 31,
     "metadata": {},
     "output_type": "execute_result"
    }
   ],
   "source": [
    "log_likelihood_fit=sum(y[i]*np.log(logistic_function(x[i]))+(1-y[i])*np.log(1-logistic_function(x[i])) for i in range(len(x)))\n",
    "log_likelihood_fit"
   ]
  },
  {
   "cell_type": "code",
   "execution_count": 32,
   "id": "7cd15768",
   "metadata": {},
   "outputs": [
    {
     "data": {
      "text/plain": [
       "0.306456105756576"
      ]
     },
     "execution_count": 32,
     "metadata": {},
     "output_type": "execute_result"
    }
   ],
   "source": [
    "r_s=(log_likelihood-log_likelihood_fit)/log_likelihood\n",
    "r_s"
   ]
  },
  {
   "cell_type": "code",
   "execution_count": 33,
   "id": "b8f31414",
   "metadata": {},
   "outputs": [
    {
     "data": {
      "text/plain": [
       "0.0016604875618753787"
      ]
     },
     "execution_count": 33,
     "metadata": {},
     "output_type": "execute_result"
    }
   ],
   "source": [
    "from scipy.stats import chi2\n",
    "chi=2*(log_likelihood_fit-log_likelihood)\n",
    "p_value=chi2.pdf(chi,1)\n",
    "p_value"
   ]
  }
 ],
 "metadata": {
  "kernelspec": {
   "display_name": "Python 3 (ipykernel)",
   "language": "python",
   "name": "python3"
  },
  "language_info": {
   "codemirror_mode": {
    "name": "ipython",
    "version": 3
   },
   "file_extension": ".py",
   "mimetype": "text/x-python",
   "name": "python",
   "nbconvert_exporter": "python",
   "pygments_lexer": "ipython3",
   "version": "3.9.12"
  }
 },
 "nbformat": 4,
 "nbformat_minor": 5
}
